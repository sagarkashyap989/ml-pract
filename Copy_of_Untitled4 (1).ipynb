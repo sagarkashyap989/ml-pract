{
  "nbformat": 4,
  "nbformat_minor": 0,
  "metadata": {
    "colab": {
      "provenance": []
    },
    "kernelspec": {
      "name": "python3",
      "display_name": "Python 3"
    },
    "language_info": {
      "name": "python"
    }
  },
  "cells": [
    {
      "cell_type": "code",
      "execution_count": 8,
      "metadata": {
        "colab": {
          "base_uri": "https://localhost:8080/"
        },
        "id": "sZMOYGFKIY-U",
        "outputId": "09e6f4a1-99c5-4c98-800c-e0165d433e18"
      },
      "outputs": [
        {
          "output_type": "stream",
          "name": "stdout",
          "text": [
            "Sentence Segmentation:\n",
            "Hello!\n",
            "How are you doing today?\n",
            "NLP is fun to learn.\n",
            "Tokenization is an important NLP task.\n",
            "It helps break down text into smaller units.\n",
            "\n",
            "Word Tokenization: ['Hello', '!']\n",
            "\n",
            "Word Tokenization: ['How', 'are', 'you', 'doing', 'today', '?']\n",
            "\n",
            "Word Tokenization: ['NLP', 'is', 'fun', 'to', 'learn', '.']\n",
            "\n",
            "Word Tokenization: ['Tokenization', 'is', 'an', 'important', 'NLP', 'task', '.']\n",
            "\n",
            "Word Tokenization: ['It', 'helps', 'break', 'down', 'text', 'into', 'smaller', 'units', '.']\n"
          ]
        }
      ],
      "source": [
        "##Write a program to implement sentence segmentation and word\n",
        "# tokenization\n",
        "\n",
        "import nltk\n",
        "from nltk.tokenize import sent_tokenize, word_tokenize\n",
        "\n",
        "# Download silently and check if already available\n",
        "nltk.download(\"punkt\", quiet=True)\n",
        "\n",
        "text = \"sagar kashyap is here.\"\n",
        "\n",
        "# Sentence segmentation\n",
        "sentences = sent_tokenize(text)\n",
        "print(\"Sentence Segmentation:\")\n",
        "for sentence in sentences:\n",
        "    print(sentence)\n",
        "\n",
        "# Word tokenization\n",
        "for sentence in sentences:\n",
        "    words = word_tokenize(sentence)\n",
        "    print(\"\\nWord Tokenization:\", words)\n"
      ]
    },
    {
      "cell_type": "code",
      "source": [],
      "metadata": {
        "id": "QhX2On5-LAn5"
      },
      "execution_count": null,
      "outputs": []
    },
    {
      "cell_type": "code",
      "source": [],
      "metadata": {
        "id": "OsHTmx0ZLBIi"
      },
      "execution_count": null,
      "outputs": []
    },
    {
      "cell_type": "code",
      "source": [],
      "metadata": {
        "id": "4InHkcfnLBN1"
      },
      "execution_count": null,
      "outputs": []
    },
    {
      "cell_type": "code",
      "source": [],
      "metadata": {
        "id": "8MAf7CnoLBQs"
      },
      "execution_count": null,
      "outputs": []
    },
    {
      "cell_type": "code",
      "source": [],
      "metadata": {
        "id": "okkrY7J4LBTF"
      },
      "execution_count": null,
      "outputs": []
    },
    {
      "cell_type": "code",
      "source": [],
      "metadata": {
        "id": "Tb0qO_m1LBVy"
      },
      "execution_count": null,
      "outputs": []
    },
    {
      "cell_type": "code",
      "source": [],
      "metadata": {
        "id": "TWuZHHMRLBYj"
      },
      "execution_count": null,
      "outputs": []
    },
    {
      "cell_type": "code",
      "source": [],
      "metadata": {
        "id": "nsIWMgG-LBbT"
      },
      "execution_count": null,
      "outputs": []
    },
    {
      "cell_type": "code",
      "source": [],
      "metadata": {
        "id": "IJbjjoQ5LBd4"
      },
      "execution_count": null,
      "outputs": []
    },
    {
      "cell_type": "code",
      "source": [],
      "metadata": {
        "id": "n3MG1n2sLBgx"
      },
      "execution_count": null,
      "outputs": []
    },
    {
      "cell_type": "code",
      "source": [],
      "metadata": {
        "id": "6xYjRAblLBjf"
      },
      "execution_count": null,
      "outputs": []
    },
    {
      "cell_type": "code",
      "source": [],
      "metadata": {
        "id": "iGdf2lPYLBmW"
      },
      "execution_count": null,
      "outputs": []
    },
    {
      "cell_type": "code",
      "source": [],
      "metadata": {
        "id": "8x5AEFJbLBpD"
      },
      "execution_count": null,
      "outputs": []
    },
    {
      "cell_type": "code",
      "source": [],
      "metadata": {
        "id": "tzjm82GoLBru"
      },
      "execution_count": null,
      "outputs": []
    },
    {
      "cell_type": "code",
      "source": [],
      "metadata": {
        "id": "xNkLLn7JLBvI"
      },
      "execution_count": null,
      "outputs": []
    },
    {
      "cell_type": "code",
      "source": [
        "# AIM: Write a program to Implement stemming and lemmatization.\n",
        "#\n",
        "\n",
        "from nltk.stem import PorterStemmer\n",
        "from nltk.tokenize import word_tokenize\n",
        "import nltk\n",
        "\n",
        "# Download required resources\n",
        "nltk.download('punkt')\n",
        "nltk.download('wordnet')\n",
        "nltk.download('omw-1.4')\n",
        "\n",
        "# Stemming\n",
        "stemmer = PorterStemmer()\n",
        "text = \"The striped bats are hanging on their feet for best\"\n",
        "words = word_tokenize(text)\n",
        "\n",
        "print(\"Stemming using NLTK:\")\n",
        "for word in words:\n",
        "    print(f\"{word} --> {stemmer.stem(word)}\")\n",
        "\n",
        "# Lemmatization\n",
        "from nltk.stem import WordNetLemmatizer\n",
        "lemmatizer = WordNetLemmatizer()\n",
        "\n",
        "print(\"\\nLemmatization using NLTK:\")\n",
        "for word in words:\n",
        "    print(f\"{word} --> {lemmatizer.lemmatize(word)}\")\n"
      ],
      "metadata": {
        "colab": {
          "base_uri": "https://localhost:8080/"
        },
        "id": "0Cv-wpeFH8cM",
        "outputId": "8f8bf5a0-6fca-4b3b-d870-866a6682fb74"
      },
      "execution_count": 9,
      "outputs": [
        {
          "output_type": "stream",
          "name": "stderr",
          "text": [
            "[nltk_data] Downloading package punkt to /root/nltk_data...\n",
            "[nltk_data]   Package punkt is already up-to-date!\n",
            "[nltk_data] Downloading package wordnet to /root/nltk_data...\n",
            "[nltk_data] Downloading package omw-1.4 to /root/nltk_data...\n"
          ]
        },
        {
          "output_type": "stream",
          "name": "stdout",
          "text": [
            "Stemming using NLTK:\n",
            "The --> the\n",
            "striped --> stripe\n",
            "bats --> bat\n",
            "are --> are\n",
            "hanging --> hang\n",
            "on --> on\n",
            "their --> their\n",
            "feet --> feet\n",
            "for --> for\n",
            "best --> best\n",
            "\n",
            "Lemmatization using NLTK:\n",
            "The --> The\n",
            "striped --> striped\n",
            "bats --> bat\n",
            "are --> are\n",
            "hanging --> hanging\n",
            "on --> on\n",
            "their --> their\n",
            "feet --> foot\n",
            "for --> for\n",
            "best --> best\n"
          ]
        }
      ]
    },
    {
      "cell_type": "code",
      "source": [
        "# AIM: Write a program to Implement a tri-gram model.\n",
        "#\n",
        "\n",
        "import nltk\n",
        "from nltk.util import ngrams\n",
        "from nltk.tokenize import word_tokenize\n",
        "from collections import Counter\n",
        "\n",
        "# Download required resource\n",
        "nltk.download('punkt')\n",
        "\n",
        "text = \"Natural Language Processing with Python is interesting and fun to learn.\"\n",
        "\n",
        "# Tokenize the text\n",
        "tokens = word_tokenize(text)\n",
        "\n",
        "# Generate trigrams\n",
        "trigrams = list(ngrams(tokens, 3))\n",
        "print(\"Trigrams:\")\n",
        "for trigram in trigrams:\n",
        "    print(trigram)\n",
        "\n",
        "# Optional: Frequency count of trigrams\n",
        "trigram_freq = Counter(trigrams)\n",
        "print(\"\\nTrigram Frequencies:\")\n",
        "for trigram, freq in trigram_freq.items():\n",
        "    print(f\"{trigram} : {freq}\")\n"
      ],
      "metadata": {
        "colab": {
          "base_uri": "https://localhost:8080/"
        },
        "id": "oF3s7BOvJNJU",
        "outputId": "4afa7a8a-aa47-4ad0-ff80-e4bdea9655e0"
      },
      "execution_count": 10,
      "outputs": [
        {
          "output_type": "stream",
          "name": "stdout",
          "text": [
            "Trigrams:\n",
            "('Natural', 'Language', 'Processing')\n",
            "('Language', 'Processing', 'with')\n",
            "('Processing', 'with', 'Python')\n",
            "('with', 'Python', 'is')\n",
            "('Python', 'is', 'interesting')\n",
            "('is', 'interesting', 'and')\n",
            "('interesting', 'and', 'fun')\n",
            "('and', 'fun', 'to')\n",
            "('fun', 'to', 'learn')\n",
            "('to', 'learn', '.')\n",
            "\n",
            "Trigram Frequencies:\n",
            "('Natural', 'Language', 'Processing') : 1\n",
            "('Language', 'Processing', 'with') : 1\n",
            "('Processing', 'with', 'Python') : 1\n",
            "('with', 'Python', 'is') : 1\n",
            "('Python', 'is', 'interesting') : 1\n",
            "('is', 'interesting', 'and') : 1\n",
            "('interesting', 'and', 'fun') : 1\n",
            "('and', 'fun', 'to') : 1\n",
            "('fun', 'to', 'learn') : 1\n",
            "('to', 'learn', '.') : 1\n"
          ]
        },
        {
          "output_type": "stream",
          "name": "stderr",
          "text": [
            "[nltk_data] Downloading package punkt to /root/nltk_data...\n",
            "[nltk_data]   Package punkt is already up-to-date!\n"
          ]
        }
      ]
    },
    {
      "cell_type": "code",
      "source": [
        "# AIM: Write a program to Implement PoS tagging using HMM & Neural Model.\n",
        "#\n",
        "\n",
        "import spacy\n",
        "\n",
        "# Load the English model\n",
        "nlp = spacy.load(\"en_core_web_sm\")\n",
        "\n",
        "text = \"Natural Language Processing enables computers to understand human language.\"\n",
        "doc = nlp(text)\n",
        "\n",
        "# Display POS tags\n",
        "print(\"PoS Tagging:\")\n",
        "for token in doc:\n",
        "    print(f\"{token.text} --> {token.pos_} ({token.tag_})\")\n"
      ],
      "metadata": {
        "colab": {
          "base_uri": "https://localhost:8080/"
        },
        "id": "c72wlvFHJ36q",
        "outputId": "6b694d04-4c64-4a53-8497-a38f986bb96c"
      },
      "execution_count": 11,
      "outputs": [
        {
          "output_type": "stream",
          "name": "stdout",
          "text": [
            "PoS Tagging:\n",
            "Natural --> PROPN (NNP)\n",
            "Language --> PROPN (NNP)\n",
            "Processing --> NOUN (NN)\n",
            "enables --> VERB (VBZ)\n",
            "computers --> NOUN (NNS)\n",
            "to --> PART (TO)\n",
            "understand --> VERB (VB)\n",
            "human --> ADJ (JJ)\n",
            "language --> NOUN (NN)\n",
            ". --> PUNCT (.)\n"
          ]
        }
      ]
    },
    {
      "cell_type": "code",
      "source": [
        "#AIM: Write a program to Implement syntactic parsing of a given text.\n",
        "\n",
        "\n",
        "import nltk\n",
        "from nltk import CFG\n",
        "\n",
        "# Download required resources\n",
        "nltk.download('punkt')\n",
        "\n",
        "# Define the grammar\n",
        "grammar = CFG.fromstring(\"\"\"\n",
        "  S -> NP VP\n",
        "  NP -> DT NN | DT JJ NN | PRP\n",
        "  VP -> VBZ NP | VB NP | VB\n",
        "  DT -> 'the' | 'a'\n",
        "  JJ -> 'big' | 'small'\n",
        "  NN -> 'dog' | 'cat' | 'food'\n",
        "  VBZ -> 'eats' | 'likes'\n",
        "  VB -> 'run' | 'play'\n",
        "  PRP -> 'he' | 'she'\n",
        "\"\"\")\n",
        "\n",
        "# Create parser\n",
        "parser = nltk.ChartParser(grammar)\n",
        "\n",
        "# Input sentence\n",
        "sentence = \"the big dog eats the food\"\n",
        "tokens = nltk.word_tokenize(sentence)\n",
        "\n",
        "# Parse and print tree(s)\n",
        "print(\"Syntactic Parse Tree(s):\")\n",
        "for tree in parser.parse(tokens):\n",
        "    print(tree)\n",
        "    tree.pretty_print()\n"
      ],
      "metadata": {
        "colab": {
          "base_uri": "https://localhost:8080/"
        },
        "id": "QNp3BHluKZxC",
        "outputId": "d8e6e93f-e7be-4453-b2da-7b99453766ce"
      },
      "execution_count": 12,
      "outputs": [
        {
          "output_type": "stream",
          "name": "stdout",
          "text": [
            "Syntactic Parse Tree(s):\n",
            "(S\n",
            "  (NP (DT the) (JJ big) (NN dog))\n",
            "  (VP (VBZ eats) (NP (DT the) (NN food))))\n",
            "         S                   \n",
            "      ___|________            \n",
            "     |            VP         \n",
            "     |        ____|___        \n",
            "     NP      |        NP     \n",
            "  ___|___    |     ___|___    \n",
            " DT  JJ  NN VBZ   DT      NN \n",
            " |   |   |   |    |       |   \n",
            "the big dog eats the     food\n",
            "\n"
          ]
        },
        {
          "output_type": "stream",
          "name": "stderr",
          "text": [
            "[nltk_data] Downloading package punkt to /root/nltk_data...\n",
            "[nltk_data]   Package punkt is already up-to-date!\n"
          ]
        }
      ]
    },
    {
      "cell_type": "code",
      "source": [
        "# AIM: Write a program to Implement dependency parsing of a given text.\n",
        "\n",
        "\n",
        "import spacy\n",
        "from spacy import displacy\n",
        "\n",
        "# Load the English model\n",
        "nlp = spacy.load(\"en_core_web_sm\")\n",
        "\n",
        "text = \"The quick brown fox jumps over the lazy dog.\"\n",
        "\n",
        "# Process the text\n",
        "doc = nlp(text)\n",
        "\n",
        "# Print dependency parsing results\n",
        "print(\"Dependency Parsing (word --> dependency relation --> head word):\")\n",
        "for token in doc:\n",
        "    print(f\"{token.text} --> {token.dep_} --> {token.head.text}\")\n"
      ],
      "metadata": {
        "colab": {
          "base_uri": "https://localhost:8080/"
        },
        "id": "ZkmZPY90KxYB",
        "outputId": "9bec2833-3ef6-4535-81ee-979d2c86d1bc"
      },
      "execution_count": 13,
      "outputs": [
        {
          "output_type": "stream",
          "name": "stdout",
          "text": [
            "Dependency Parsing (word --> dependency relation --> head word):\n",
            "The --> det --> fox\n",
            "quick --> amod --> fox\n",
            "brown --> amod --> fox\n",
            "fox --> nsubj --> jumps\n",
            "jumps --> ROOT --> jumps\n",
            "over --> prep --> jumps\n",
            "the --> det --> dog\n",
            "lazy --> amod --> dog\n",
            "dog --> pobj --> over\n",
            ". --> punct --> jumps\n"
          ]
        }
      ]
    },
    {
      "cell_type": "code",
      "source": [
        "#AIM: Write a program to Implement Named Entity Recognition (NER).\n",
        "\n",
        "import spacy\n",
        "from spacy import displacy\n",
        "\n",
        "# Load spaCy model\n",
        "nlp = spacy.load(\"en_core_web_sm\")\n",
        "\n",
        "# Sample text\n",
        "text = \"Barack Obama was born in Hawaii and served as the president of the United States.\"\n",
        "doc = nlp(text)\n",
        "\n",
        "# Print named entities\n",
        "print(\"Named Entities (spaCy):\")\n",
        "for ent in doc.ents:\n",
        "    print(f\"{ent.text} --> {ent.label_}\")\n"
      ],
      "metadata": {
        "id": "PTAIAPQvLqgy",
        "colab": {
          "base_uri": "https://localhost:8080/"
        },
        "outputId": "ce5245f3-6f7e-4349-b09c-9a6e76a946d1"
      },
      "execution_count": 14,
      "outputs": [
        {
          "output_type": "stream",
          "name": "stdout",
          "text": [
            "Named Entities (spaCy):\n",
            "Barack Obama --> PERSON\n",
            "Hawaii --> GPE\n",
            "the United States --> GPE\n"
          ]
        }
      ]
    },
    {
      "cell_type": "code",
      "source": [
        "#AIM: Write a program to Implement Text Summarization for the given sample\n",
        "# text.\n",
        "\n",
        "\n",
        "import spacy\n",
        "from collections import Counter\n",
        "import heapq\n",
        "\n",
        "# Load spaCy model\n",
        "nlp = spacy.load(\"en_core_web_sm\")\n",
        "\n",
        "# Define the text input\n",
        "text = \"Natural Language Processing is a fascinating field. Would you like me to refine or expand on any specific area of NLP?\"\n",
        "\n",
        "# Process the text\n",
        "doc = nlp(text)\n",
        "\n",
        "# Calculate word frequencies (excluding stop words and punctuation)\n",
        "word_frequencies = {}\n",
        "for word in doc:\n",
        "    if word.text.lower() not in nlp.Defaults.stop_words and not word.is_punct:\n",
        "        word_frequencies[word.text.lower()] = word_frequencies.get(word.text.lower(), 0) + 1\n",
        "\n",
        "# Normalize frequencies\n",
        "max_freq = max(word_frequencies.values(), default=1)\n",
        "for word in word_frequencies:\n",
        "    word_frequencies[word] /= max_freq\n",
        "\n",
        "# Score sentences based on word frequencies\n",
        "sentence_scores = {}\n",
        "for sent in doc.sents:\n",
        "    for word in sent:\n",
        "        if word.text.lower() in word_frequencies:\n",
        "            sentence_scores[sent] = sentence_scores.get(sent, 0) + word_frequencies[word.text.lower()]\n",
        "\n",
        "# Get top 2 sentences as summary\n",
        "summary_sentences = heapq.nlargest(2, sentence_scores, key=sentence_scores.get)\n",
        "summary = ' '.join([sent.text for sent in summary_sentences])\n",
        "\n",
        "print(\"\\nCustom Extractive Summary:\")\n",
        "print(summary)\n"
      ],
      "metadata": {
        "colab": {
          "base_uri": "https://localhost:8080/"
        },
        "id": "GL0-xeUjMFYD",
        "outputId": "7a32fe54-6130-4ec3-b435-af48b3321c7b"
      },
      "execution_count": 15,
      "outputs": [
        {
          "output_type": "stream",
          "name": "stdout",
          "text": [
            "\n",
            "Custom Extractive Summary:\n",
            "Would you like me to refine or expand on any specific area of NLP? Natural Language Processing is a fascinating field.\n"
          ]
        }
      ]
    },
    {
      "cell_type": "code",
      "source": [],
      "metadata": {
        "id": "XaSSYHWuK_Ub"
      },
      "execution_count": null,
      "outputs": []
    },
    {
      "cell_type": "code",
      "source": [
        ""
      ],
      "metadata": {
        "colab": {
          "base_uri": "https://localhost:8080/",
          "height": 1000
        },
        "id": "QCEzXoF8Np6p",
        "outputId": "fdb60534-52a4-415f-f0ac-7256fa2a43bb"
      },
      "execution_count": null,
      "outputs": [
        {
          "output_type": "stream",
          "name": "stdout",
          "text": [
            "Dataset shape: (70000, 784)\n",
            "Iteration 1, loss = 0.42635367\n",
            "Iteration 2, loss = 0.15133481\n",
            "Iteration 3, loss = 0.11926082\n",
            "Iteration 4, loss = 0.10128421\n",
            "Iteration 5, loss = 0.08698448\n",
            "Iteration 6, loss = 0.08018627\n",
            "Iteration 7, loss = 0.07544472\n",
            "Iteration 8, loss = 0.06650726\n",
            "Iteration 9, loss = 0.06502276\n",
            "Iteration 10, loss = 0.05670472\n",
            "Iteration 11, loss = 0.05228727\n",
            "Iteration 12, loss = 0.05194876\n",
            "Iteration 13, loss = 0.04580530\n",
            "Iteration 14, loss = 0.04507070\n",
            "Iteration 15, loss = 0.04141424\n",
            "Iteration 16, loss = 0.03988480\n",
            "Iteration 17, loss = 0.03980626\n",
            "Iteration 18, loss = 0.03593785\n",
            "Iteration 19, loss = 0.03619045\n",
            "Iteration 20, loss = 0.03170852\n",
            "Iteration 21, loss = 0.03625169\n",
            "Iteration 22, loss = 0.03089518\n",
            "Iteration 23, loss = 0.02846908\n",
            "Iteration 24, loss = 0.02659335\n",
            "Iteration 25, loss = 0.02902193\n",
            "Iteration 26, loss = 0.02652245\n",
            "Iteration 27, loss = 0.02556115\n",
            "Iteration 28, loss = 0.02434759\n",
            "Iteration 29, loss = 0.02473342\n",
            "Iteration 30, loss = 0.02455680\n",
            "Iteration 31, loss = 0.02841971\n",
            "Iteration 32, loss = 0.02538973\n",
            "Iteration 33, loss = 0.02368429\n",
            "Iteration 34, loss = 0.02347278\n",
            "Iteration 35, loss = 0.01932439\n",
            "Iteration 36, loss = 0.01925207\n",
            "Iteration 37, loss = 0.01706948\n",
            "Iteration 38, loss = 0.01990278\n",
            "Iteration 39, loss = 0.01904257\n",
            "Iteration 40, loss = 0.02119117\n",
            "Iteration 41, loss = 0.02338276\n",
            "Iteration 42, loss = 0.02211926\n",
            "Iteration 43, loss = 0.01887700\n",
            "Iteration 44, loss = 0.01837013\n",
            "Iteration 45, loss = 0.01776024\n",
            "Iteration 46, loss = 0.01718011\n",
            "Iteration 47, loss = 0.01687328\n",
            "Iteration 48, loss = 0.01869230\n",
            "Iteration 49, loss = 0.01602117\n",
            "Iteration 50, loss = 0.01950376\n",
            "Iteration 51, loss = 0.01482378\n",
            "Iteration 52, loss = 0.01172037\n",
            "Iteration 53, loss = 0.01981958\n",
            "Iteration 54, loss = 0.01473247\n",
            "Iteration 55, loss = 0.01884735\n",
            "Iteration 56, loss = 0.01311884\n",
            "Iteration 57, loss = 0.01569634\n",
            "Iteration 58, loss = 0.01411826\n",
            "Iteration 59, loss = 0.01322609\n",
            "Iteration 60, loss = 0.01057546\n",
            "Iteration 61, loss = 0.01689501\n",
            "Iteration 62, loss = 0.02119029\n",
            "Iteration 63, loss = 0.01686057\n",
            "Iteration 64, loss = 0.01941895\n",
            "Iteration 65, loss = 0.01396645\n",
            "Iteration 66, loss = 0.01370918\n",
            "Iteration 67, loss = 0.01373000\n",
            "Iteration 68, loss = 0.01269792\n",
            "Iteration 69, loss = 0.00863371\n",
            "Iteration 70, loss = 0.01674907\n",
            "Iteration 71, loss = 0.01430503\n",
            "Iteration 72, loss = 0.01354401\n",
            "Iteration 73, loss = 0.01266359\n",
            "Iteration 74, loss = 0.01931207\n",
            "Iteration 75, loss = 0.01495040\n",
            "Iteration 76, loss = 0.01856423\n",
            "Iteration 77, loss = 0.01455814\n",
            "Iteration 78, loss = 0.01311380\n",
            "Iteration 79, loss = 0.01177643\n",
            "Iteration 80, loss = 0.01160100\n",
            "Training loss did not improve more than tol=0.000100 for 10 consecutive epochs. Stopping.\n",
            "\n",
            "Test Accuracy: 97.07%\n",
            "\n",
            "Classification Report:\n",
            "\n",
            "              precision    recall  f1-score   support\n",
            "\n",
            "           0       0.98      0.98      0.98       980\n",
            "           1       0.99      0.99      0.99      1135\n",
            "           2       0.97      0.97      0.97      1032\n",
            "           3       0.97      0.97      0.97      1010\n",
            "           4       0.97      0.96      0.96       982\n",
            "           5       0.97      0.97      0.97       892\n",
            "           6       0.98      0.97      0.98       958\n",
            "           7       0.97      0.97      0.97      1028\n",
            "           8       0.97      0.95      0.96       974\n",
            "           9       0.93      0.98      0.95      1009\n",
            "\n",
            "    accuracy                           0.97     10000\n",
            "   macro avg       0.97      0.97      0.97     10000\n",
            "weighted avg       0.97      0.97      0.97     10000\n",
            "\n"
          ]
        },
        {
          "output_type": "display_data",
          "data": {
            "text/plain": [
              "<Figure size 1000x500 with 10 Axes>"
            ],
            "image/png": "[encoded data removed]"
          },
          "metadata": {}
        }
      ]
    },
    {
      "cell_type": "markdown",
      "source": [],
      "metadata": {
        "id": "ZGtBgYusN7-9"
      }
    }
  ]
}